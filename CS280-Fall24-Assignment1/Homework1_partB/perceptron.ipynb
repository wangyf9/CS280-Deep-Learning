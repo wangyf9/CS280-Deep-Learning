{
 "cells": [
  {
   "cell_type": "markdown",
   "metadata": {},
   "source": [
    "## Perceptron Learning Algorithm\n",
    "\n",
    "The perceptron is a simple supervised machine learning algorithm and one of the earliest neural network architectures. It was introduced by Rosenblatt in the late 1950s. A perceptron represents a binary linear classifier that maps a set of training examples (of $d$ dimensional input vectors) onto binary output values using a $d-1$ dimensional hyperplane. But Today, we will implement **Multi-Classes Perceptron Learning Algorithm** \n",
    "**Given:**\n",
    "* dataset $\\{(x^i, y^i)\\}$, $i \\in (1, M)$\n",
    "* $x^i$ is $d$ dimension vector, $x^i = (x^i_1, \\dots x^i_d)$\n",
    "* $y^i$ is multi-class target varible $y^i \\in \\{0,1,2\\}$\n",
    "\n",
    "A perceptron is trained using gradient descent. The training algorithm has different steps. In the beginning (step 0) the model parameters are initialized. The other steps (see below) are repeated for a specified number of training iterations or until the parameters have converged.\n",
    "\n",
    "**Step0:** Initial the weight vector and bias with zeros     \n",
    "**Step1:** Compute the linear combination of the input features and weight. $y^i_{pred} = \\arg\\max_k W_k*x^i + b$    \n",
    "**Step2:** Compute the gradients for parameters $W_k$, $b$. **Derive the parameter update equation Here (5 points)**   \n",
    "\n",
    "##################################     \n",
    "TODO: Derive you answer hear  \n",
    "Firstly, our derivation of Eq. gives us  \n",
    "$\\frac{\\partial L}{\\partial w} = - \\sum_{x^i} y^ix^i$  \n",
    "$\\frac{\\partial L}{\\partial b} = - \\sum_{x^i} y^i$  \n",
    "And then we use it to update our parameters by multiplying with learning rate $\\eta$  \n",
    "$W_{y^i} = W_{y^i} + \\eta y^ix^i$  \n",
    "$b_{y^i} = b_{y^i} + \\eta y^i$  \n",
    "Therefore, if the datapoint is classified correctly, the $W_{y^i}$ and $b_{y^i}$ will become larger. Otherwise, it will become smaller. Finally, we can get a trained perceptron model.  \n",
    "#################################\n",
    "                              \n",
    "                        "
   ]
  },
  {
   "cell_type": "code",
   "execution_count": 1,
   "metadata": {},
   "outputs": [],
   "source": [
    "from sklearn import datasets\n",
    "import numpy as np\n",
    "from sklearn.model_selection import train_test_split\n",
    "import matplotlib.pyplot as plt\n",
    "import random\n",
    "\n",
    "np.random.seed(0)\n",
    "random.seed(0)"
   ]
  },
  {
   "cell_type": "code",
   "execution_count": 2,
   "metadata": {},
   "outputs": [
    {
     "name": "stdout",
     "output_type": "stream",
     "text": [
      "<class 'numpy.ndarray'>\n",
      "X_Shape: (150, 4)\n",
      "y_Shape: (150,)\n",
      "Label Space: [0 1 2]\n"
     ]
    }
   ],
   "source": [
    "iris = datasets.load_iris()\n",
    "X = iris.data\n",
    "print(type(X))\n",
    "y = iris.target\n",
    "y = np.array(y)\n",
    "print('X_Shape:', X.shape)\n",
    "print('y_Shape:', y.shape)\n",
    "print('Label Space:', np.unique(y))"
   ]
  },
  {
   "cell_type": "code",
   "execution_count": 3,
   "metadata": {},
   "outputs": [
    {
     "name": "stdout",
     "output_type": "stream",
     "text": [
      "X_train_Shape: (105, 4)\n",
      "X_test_Shape: (45, 4)\n",
      "y_train_Shape: (105,)\n",
      "y_test_Shape: (105,)\n",
      "<class 'numpy.ndarray'>\n"
     ]
    }
   ],
   "source": [
    "## split the training set and test set\n",
    "X_train,X_test,y_train,y_test=train_test_split(X,y,test_size=0.3, random_state=0)\n",
    "print('X_train_Shape:', X_train.shape)\n",
    "print('X_test_Shape:',  X_test.shape)\n",
    "print('y_train_Shape:', y_train.shape)\n",
    "print('y_test_Shape:',  y_train.shape)\n",
    "\n",
    "print(type(y_train))\n",
    "\n"
   ]
  },
  {
   "cell_type": "code",
   "execution_count": 19,
   "metadata": {},
   "outputs": [],
   "source": [
    "class MultiClsPLA(object):\n",
    "\n",
    "    ## We recommend to absorb the bias into weight.  W = [w, b]\n",
    "\n",
    "    def __init__(self, X_train, y_train, X_test, y_test, lr, num_epoch, weight_dimension, num_cls):\n",
    "        super(MultiClsPLA, self).__init__()\n",
    "        self.X_train = X_train\n",
    "        self.y_train = y_train\n",
    "        self.X_test = X_test\n",
    "        self.y_test = y_test\n",
    "        self.weight = self.initial_weight(weight_dimension, num_cls)\n",
    "        self.sample_mean = np.mean(self.X_train, 0)\n",
    "        self.sample_std = np.std(self.X_train, 0)\n",
    "        self.num_epoch = num_epoch\n",
    "        self.lr = lr\n",
    "        self.total_acc_train = []\n",
    "        self.total_acc_tst = []\n",
    "\n",
    "    def initial_weight(self, weight_dimension, num_cls):\n",
    "        #########################################\n",
    "        ##  Initialize the weight with         ##\n",
    "        ##  small std and zero mean gaussian   ##\n",
    "        #########################################\n",
    "        weight = np.random.normal(0, 0.01, (weight_dimension + 1, num_cls))\n",
    "        return weight\n",
    "\n",
    "    def data_preprocessing(self, data):\n",
    "        #####################################\n",
    "        ##  Normalize the data              ##\n",
    "        #####################################\n",
    "        norm_data = (data - self.sample_mean) / self.sample_std\n",
    "        return norm_data\n",
    "\n",
    "    def train_step(self, X_train, y_train, shuffle_idx):\n",
    "        np.random.shuffle(shuffle_idx)\n",
    "        X_train = X_train[shuffle_idx]\n",
    "        y_train = y_train[shuffle_idx]\n",
    "\n",
    "        # Append a column of ones to the end of X_train for the bias term\n",
    "        X_train_bias = np.hstack((X_train, np.ones((X_train.shape[0], 1))))\n",
    "\n",
    "        for i in range(X_train.shape[0]):\n",
    "            xi = X_train_bias[i]\n",
    "            yi = y_train[i]\n",
    "            yi_pred = np.argmax(np.dot(xi, self.weight))\n",
    "            if yi_pred != yi:\n",
    "                self.weight[:, yi] += self.lr * xi\n",
    "                self.weight[:, yi_pred] -= self.lr * xi\n",
    "\n",
    "        # Calculate training accuracy\n",
    "        pred_train = np.argmax(np.dot(X_train_bias, self.weight), axis=1)\n",
    "        train_acc = np.mean(pred_train == y_train)\n",
    "        return train_acc\n",
    "\n",
    "    def test_step(self, X_test, y_test):\n",
    "        X_test = self.data_preprocessing(data=X_test)\n",
    "        \n",
    "        # Append a column of ones to the end of X_test for the bias term\n",
    "        X_test_bias = np.hstack((X_test, np.ones((X_test.shape[0], 1))))\n",
    "        \n",
    "        pred_test = np.argmax(np.dot(X_test_bias, self.weight), axis=1)\n",
    "        test_acc = np.mean(pred_test == y_test)\n",
    "        \n",
    "        return test_acc\n",
    "\n",
    "    def train(self):\n",
    "        self.X_train = self.data_preprocessing(data=self.X_train)\n",
    "        num_sample = self.X_train.shape[0]\n",
    "\n",
    "        ######################################################\n",
    "        ### In order to absorb the bias into weights       ###\n",
    "        ### we need to modify the input data.              ###\n",
    "        ######################################################\n",
    "         \n",
    "        shuffle_index = np.array(range(0, num_sample))\n",
    "        for epoch in range(self.num_epoch):\n",
    "            training_acc = self.train_step(X_train=self.X_train, y_train=self.y_train, shuffle_idx=shuffle_index)\n",
    "            tst_acc = self.test_step(X_test=self.X_test, y_test=self.y_test)\n",
    "            self.total_acc_train.append(training_acc)\n",
    "            self.total_acc_tst.append(tst_acc)\n",
    "            print('epoch:', epoch, 'training_acc:%.3f' % training_acc, 'test_acc:%.3f' % tst_acc)\n",
    "\n",
    "    def vis_acc_curve(self):\n",
    "        train_acc = np.array(self.total_acc_train)\n",
    "        test_acc = np.array(self.total_acc_tst)\n",
    "        plt.plot(train_acc)\n",
    "        plt.plot(test_acc)\n",
    "        plt.legend(['train_acc', 'test_acc'])\n",
    "        plt.xlabel('Epoch')\n",
    "        plt.ylabel('Accuracy')\n",
    "        plt.title('Training and Test Accuracy over Epochs')\n",
    "        plt.show()"
   ]
  },
  {
   "cell_type": "code",
   "execution_count": 22,
   "metadata": {},
   "outputs": [
    {
     "name": "stdout",
     "output_type": "stream",
     "text": [
      "epoch: 0 training_acc:0.917 test_acc:0.900\n",
      "epoch: 1 training_acc:0.933 test_acc:0.967\n",
      "epoch: 2 training_acc:0.950 test_acc:0.933\n",
      "epoch: 3 training_acc:0.958 test_acc:0.967\n",
      "epoch: 4 training_acc:0.967 test_acc:0.967\n",
      "epoch: 5 training_acc:0.933 test_acc:0.933\n",
      "epoch: 6 training_acc:0.950 test_acc:0.933\n",
      "epoch: 7 training_acc:0.967 test_acc:0.967\n",
      "epoch: 8 training_acc:0.975 test_acc:0.967\n",
      "epoch: 9 training_acc:0.900 test_acc:0.900\n",
      "epoch: 10 training_acc:0.975 test_acc:0.933\n",
      "epoch: 11 training_acc:0.975 test_acc:0.967\n",
      "epoch: 12 training_acc:0.967 test_acc:0.967\n",
      "epoch: 13 training_acc:0.958 test_acc:0.967\n",
      "epoch: 14 training_acc:0.967 test_acc:0.967\n",
      "epoch: 15 training_acc:0.958 test_acc:1.000\n",
      "epoch: 16 training_acc:0.975 test_acc:0.967\n",
      "epoch: 17 training_acc:0.950 test_acc:0.967\n",
      "epoch: 18 training_acc:0.967 test_acc:1.000\n",
      "epoch: 19 training_acc:0.958 test_acc:0.967\n",
      "epoch: 20 training_acc:0.983 test_acc:0.967\n",
      "epoch: 21 training_acc:0.983 test_acc:0.967\n",
      "epoch: 22 training_acc:0.983 test_acc:0.967\n",
      "epoch: 23 training_acc:0.925 test_acc:0.967\n",
      "epoch: 24 training_acc:0.983 test_acc:0.967\n",
      "epoch: 25 training_acc:0.967 test_acc:0.967\n",
      "epoch: 26 training_acc:0.975 test_acc:0.967\n",
      "epoch: 27 training_acc:0.967 test_acc:1.000\n",
      "epoch: 28 training_acc:0.967 test_acc:0.967\n",
      "epoch: 29 training_acc:0.975 test_acc:1.000\n",
      "epoch: 30 training_acc:0.892 test_acc:0.933\n",
      "epoch: 31 training_acc:0.983 test_acc:0.967\n",
      "epoch: 32 training_acc:0.975 test_acc:0.933\n",
      "epoch: 33 training_acc:0.975 test_acc:1.000\n",
      "epoch: 34 training_acc:0.958 test_acc:1.000\n",
      "epoch: 35 training_acc:0.958 test_acc:0.967\n",
      "epoch: 36 training_acc:0.967 test_acc:1.000\n",
      "epoch: 37 training_acc:0.967 test_acc:0.967\n",
      "epoch: 38 training_acc:0.975 test_acc:1.000\n",
      "epoch: 39 training_acc:0.958 test_acc:0.967\n",
      "epoch: 40 training_acc:0.967 test_acc:0.967\n",
      "epoch: 41 training_acc:0.967 test_acc:1.000\n",
      "epoch: 42 training_acc:0.967 test_acc:0.967\n",
      "epoch: 43 training_acc:0.967 test_acc:0.967\n",
      "epoch: 44 training_acc:0.967 test_acc:0.967\n",
      "epoch: 45 training_acc:0.975 test_acc:0.967\n",
      "epoch: 46 training_acc:0.975 test_acc:1.000\n",
      "epoch: 47 training_acc:0.983 test_acc:1.000\n",
      "epoch: 48 training_acc:0.983 test_acc:1.000\n",
      "epoch: 49 training_acc:0.983 test_acc:1.000\n"
     ]
    },
    {
     "data": {
      "image/png": "[encoded data removed]",
      "text/plain": [
       "<Figure size 432x288 with 1 Axes>"
      ]
     },
     "metadata": {
      "needs_background": "light"
     },
     "output_type": "display_data"
    }
   ],
   "source": [
    "np.random.seed(0)\n",
    "random.seed(0)\n",
    "#######################################################\n",
    "### TODO: \n",
    "### 1. You need to import the model and pass some parameters. \n",
    "### 2. Then training the model with some epoches.\n",
    "### 3. Visualize the training acc and test acc verus epoches\n",
    "\n",
    "# Parameters\n",
    "lr = 0.001          # learning rate\n",
    "num_epoch = 50     # number of epochs\n",
    "weight_dimension = X_train.shape[1]  # number of features\n",
    "num_cls = len(np.unique(y))          # number of classes\n",
    "\n",
    "# Initialize and train the MultiClsPLA model\n",
    "model = MultiClsPLA(X_train, y_train, X_test, y_test, lr, num_epoch, weight_dimension, num_cls)\n",
    "model.train()\n",
    "\n",
    "# Visualize the training accuracy and test accuracy versus epochs\n",
    "model.vis_acc_curve()\n"
   ]
  }
 ],
 "metadata": {
  "kernelspec": {
   "display_name": "Python 3 (ipykernel)",
   "language": "python",
   "name": "python3"
  },
  "language_info": {
   "codemirror_mode": {
    "name": "ipython",
    "version": 3
   },
   "file_extension": ".py",
   "mimetype": "text/x-python",
   "name": "python",
   "nbconvert_exporter": "python",
   "pygments_lexer": "ipython3",
   "version": "3.12.7"
  },
  "pycharm": {
   "stem_cell": {
    "cell_type": "raw",
    "metadata": {
     "collapsed": false
    },
    "source": []
   }
  }
 },
 "nbformat": 4,
 "nbformat_minor": 4
}
